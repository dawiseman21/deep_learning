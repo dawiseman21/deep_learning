{
 "cells": [
  {
   "cell_type": "code",
   "execution_count": 1,
   "id": "74a3a25d-c98c-43f1-9031-ce7245193c3b",
   "metadata": {},
   "outputs": [
    {
     "name": "stdout",
     "output_type": "stream",
     "text": [
      "[1 2 3 4]\n"
     ]
    }
   ],
   "source": [
    "import numpy as np\n",
    "\n",
    "a = np.array([1,2,3,4])\n",
    "print(a)"
   ]
  },
  {
   "cell_type": "code",
   "execution_count": 2,
   "id": "29122373-076e-4a82-8371-358a2d8f57b6",
   "metadata": {},
   "outputs": [
    {
     "name": "stdout",
     "output_type": "stream",
     "text": [
      "249809.18600474377\n",
      "Vectorized version: 1.0075569152832031ms\n"
     ]
    }
   ],
   "source": [
    "import time\n",
    "\n",
    "a = np.random.rand(1000000)\n",
    "b = np.random.rand(1000000)\n",
    "\n",
    "tic = time.time()\n",
    "c = np.dot(a,b)\n",
    "toc = time.time()\n",
    "\n",
    "print(c)\n",
    "print('Vectorized version: ' + str(1000*(toc-tic)) +'ms')"
   ]
  },
  {
   "cell_type": "code",
   "execution_count": 3,
   "id": "dc06d8a2-9acf-40ec-9cd2-2c400b5b175d",
   "metadata": {},
   "outputs": [
    {
     "name": "stdout",
     "output_type": "stream",
     "text": [
      "500106.09528529586\n",
      "For loop: 203.74274253845215ms\n"
     ]
    }
   ],
   "source": [
    "c=0\n",
    "\n",
    "tic = time.time()\n",
    "for i in range(1000000):\n",
    "    c += a[i]\n",
    "toc = time.time()\n",
    "\n",
    "print(c)\n",
    "print('For loop: ' + str(1000*(toc-tic)) +'ms')"
   ]
  },
  {
   "cell_type": "markdown",
   "id": "33938fd9-7914-4621-add2-8d47fad65b67",
   "metadata": {},
   "source": [
    "CPU and GPU both have instructions for parallelization instructions, aka SIMD instructions\n",
    "\n",
    "SIMD = Single Instruction Multiple Data\n",
    "\n",
    "Avoid using explicit for-loops"
   ]
  },
  {
   "cell_type": "code",
   "execution_count": null,
   "id": "7bd7c1b9-84cb-4c19-a9e8-b800540c3f93",
   "metadata": {},
   "outputs": [],
   "source": []
  },
  {
   "cell_type": "code",
   "execution_count": 7,
   "id": "dca08c86-6dbc-4e80-aadc-9eeb75f056f9",
   "metadata": {},
   "outputs": [],
   "source": [
    "# Vectorizing Logistic Regression\n"
   ]
  },
  {
   "cell_type": "code",
   "execution_count": 10,
   "id": "98bbe5d5-b799-4031-839d-0c75702da13e",
   "metadata": {},
   "outputs": [
    {
     "name": "stdout",
     "output_type": "stream",
     "text": [
      "[[ 56.    0.    4.4  68. ]\n",
      " [  1.2 104.   52.    8. ]\n",
      " [  1.8 135.   99.    0.9]]\n"
     ]
    }
   ],
   "source": [
    "# Broadcasting ... Python's expansion of a real variable when working with matrices\n",
    "\n",
    "A = np.array([[56., 0., 4.4, 68.0],\n",
    "            [1.2,104.0,52.,8.],\n",
    "            [1.8,135.,99.,0.9]])\n",
    "\n",
    "print(A)\n"
   ]
  },
  {
   "cell_type": "code",
   "execution_count": 11,
   "id": "89ee6251-a4d6-46f1-9505-3aa064c11dd8",
   "metadata": {},
   "outputs": [
    {
     "data": {
      "text/plain": [
       "array([ 59. , 239. , 155.4,  76.9])"
      ]
     },
     "execution_count": 11,
     "metadata": {},
     "output_type": "execute_result"
    }
   ],
   "source": [
    "cal = A.sum(axis=-0)\n",
    "cal"
   ]
  },
  {
   "cell_type": "code",
   "execution_count": 12,
   "id": "1ce4c48d-7c55-44d7-903c-1e896b937af4",
   "metadata": {},
   "outputs": [
    {
     "data": {
      "text/plain": [
       "array([[94.91525424,  0.        ,  2.83140283, 88.42652796],\n",
       "       [ 2.03389831, 43.51464435, 33.46203346, 10.40312094],\n",
       "       [ 3.05084746, 56.48535565, 63.70656371,  1.17035111]])"
      ]
     },
     "execution_count": 12,
     "metadata": {},
     "output_type": "execute_result"
    }
   ],
   "source": [
    "percentage = A/cal.reshape(1,4)*100\n",
    "percentage"
   ]
  },
  {
   "cell_type": "code",
   "execution_count": 13,
   "id": "b791adf1-e8c2-43e8-a7d1-72dbcf363185",
   "metadata": {},
   "outputs": [
    {
     "ename": "NameError",
     "evalue": "name 'lenth' is not defined",
     "output_type": "error",
     "traceback": [
      "\u001b[1;31m---------------------------------------------------------------------------\u001b[0m",
      "\u001b[1;31mNameError\u001b[0m                                 Traceback (most recent call last)",
      "Cell \u001b[1;32mIn[13], line 1\u001b[0m\n\u001b[1;32m----> 1\u001b[0m \u001b[43mlenth\u001b[49m(cal)\n",
      "\u001b[1;31mNameError\u001b[0m: name 'lenth' is not defined"
     ]
    }
   ],
   "source": [
    "lenth(cal)"
   ]
  },
  {
   "cell_type": "code",
   "execution_count": null,
   "id": "cfe11182-a140-4c77-ba61-ec0d4e4dd4a1",
   "metadata": {},
   "outputs": [],
   "source": []
  },
  {
   "cell_type": "code",
   "execution_count": null,
   "id": "911370fe-ec34-47d2-ab9f-e2018f927476",
   "metadata": {},
   "outputs": [],
   "source": []
  }
 ],
 "metadata": {
  "kernelspec": {
   "display_name": "mlenv",
   "language": "python",
   "name": "mlenv"
  },
  "language_info": {
   "codemirror_mode": {
    "name": "ipython",
    "version": 3
   },
   "file_extension": ".py",
   "mimetype": "text/x-python",
   "name": "python",
   "nbconvert_exporter": "python",
   "pygments_lexer": "ipython3",
   "version": "3.11.5"
  }
 },
 "nbformat": 4,
 "nbformat_minor": 5
}
