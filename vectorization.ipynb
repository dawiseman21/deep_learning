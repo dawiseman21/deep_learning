{
 "cells": [
  {
   "cell_type": "code",
   "execution_count": 1,
   "id": "74a3a25d-c98c-43f1-9031-ce7245193c3b",
   "metadata": {},
   "outputs": [
    {
     "name": "stdout",
     "output_type": "stream",
     "text": [
      "[1 2 3 4]\n"
     ]
    }
   ],
   "source": [
    "import numpy as np\n",
    "\n",
    "a = np.array([1,2,3,4])\n",
    "print(a)"
   ]
  },
  {
   "cell_type": "code",
   "execution_count": 2,
   "id": "29122373-076e-4a82-8371-358a2d8f57b6",
   "metadata": {},
   "outputs": [
    {
     "name": "stdout",
     "output_type": "stream",
     "text": [
      "249809.18600474377\n",
      "Vectorized version: 1.0075569152832031ms\n"
     ]
    }
   ],
   "source": [
    "import time\n",
    "\n",
    "a = np.random.rand(1000000)\n",
    "b = np.random.rand(1000000)\n",
    "\n",
    "tic = time.time()\n",
    "c = np.dot(a,b)\n",
    "toc = time.time()\n",
    "\n",
    "print(c)\n",
    "print('Vectorized version: ' + str(1000*(toc-tic)) +'ms')"
   ]
  },
  {
   "cell_type": "code",
   "execution_count": 3,
   "id": "dc06d8a2-9acf-40ec-9cd2-2c400b5b175d",
   "metadata": {},
   "outputs": [
    {
     "name": "stdout",
     "output_type": "stream",
     "text": [
      "500106.09528529586\n",
      "For loop: 203.74274253845215ms\n"
     ]
    }
   ],
   "source": [
    "c=0\n",
    "\n",
    "tic = time.time()\n",
    "for i in range(1000000):\n",
    "    c += a[i]\n",
    "toc = time.time()\n",
    "\n",
    "print(c)\n",
    "print('For loop: ' + str(1000*(toc-tic)) +'ms')"
   ]
  },
  {
   "cell_type": "markdown",
   "id": "33938fd9-7914-4621-add2-8d47fad65b67",
   "metadata": {},
   "source": [
    "CPU and GPU both have instructions for parallelization instructions, aka SIMD instructions\n",
    "\n",
    "SIMD = Single Instruction Multiple Data\n",
    "\n",
    "Avoid using explicit for-loops"
   ]
  },
  {
   "cell_type": "code",
   "execution_count": null,
   "id": "7bd7c1b9-84cb-4c19-a9e8-b800540c3f93",
   "metadata": {},
   "outputs": [],
   "source": []
  },
  {
   "cell_type": "code",
   "execution_count": 7,
   "id": "dca08c86-6dbc-4e80-aadc-9eeb75f056f9",
   "metadata": {},
   "outputs": [],
   "source": [
    "# Vectorizing Logistic Regression\n"
   ]
  },
  {
   "cell_type": "code",
   "execution_count": 10,
   "id": "98bbe5d5-b799-4031-839d-0c75702da13e",
   "metadata": {},
   "outputs": [
    {
     "name": "stdout",
     "output_type": "stream",
     "text": [
      "[[ 56.    0.    4.4  68. ]\n",
      " [  1.2 104.   52.    8. ]\n",
      " [  1.8 135.   99.    0.9]]\n"
     ]
    }
   ],
   "source": [
    "# Broadcasting ... Python's expansion of a real variable when working with matrices\n",
    "\n",
    "A = np.array([[56., 0., 4.4, 68.0],\n",
    "            [1.2,104.0,52.,8.],\n",
    "            [1.8,135.,99.,0.9]])\n",
    "\n",
    "print(A)\n"
   ]
  },
  {
   "cell_type": "code",
   "execution_count": 11,
   "id": "89ee6251-a4d6-46f1-9505-3aa064c11dd8",
   "metadata": {},
   "outputs": [
    {
     "data": {
      "text/plain": [
       "array([ 59. , 239. , 155.4,  76.9])"
      ]
     },
     "execution_count": 11,
     "metadata": {},
     "output_type": "execute_result"
    }
   ],
   "source": [
    "cal = A.sum(axis=-0)\n",
    "cal"
   ]
  },
  {
   "cell_type": "code",
   "execution_count": 12,
   "id": "1ce4c48d-7c55-44d7-903c-1e896b937af4",
   "metadata": {},
   "outputs": [
    {
     "data": {
      "text/plain": [
       "array([[94.91525424,  0.        ,  2.83140283, 88.42652796],\n",
       "       [ 2.03389831, 43.51464435, 33.46203346, 10.40312094],\n",
       "       [ 3.05084746, 56.48535565, 63.70656371,  1.17035111]])"
      ]
     },
     "execution_count": 12,
     "metadata": {},
     "output_type": "execute_result"
    }
   ],
   "source": [
    "percentage = A/cal.reshape(1,4)*100\n",
    "percentage"
   ]
  },
  {
   "cell_type": "code",
   "execution_count": 16,
   "id": "b791adf1-e8c2-43e8-a7d1-72dbcf363185",
   "metadata": {},
   "outputs": [
    {
     "data": {
      "text/plain": [
       "array([[0.94915254, 0.        , 0.02831403, 0.88426528],\n",
       "       [0.02033898, 0.43514644, 0.33462033, 0.10403121],\n",
       "       [0.03050847, 0.56485356, 0.63706564, 0.01170351]])"
      ]
     },
     "execution_count": 16,
     "metadata": {},
     "output_type": "execute_result"
    }
   ],
   "source": [
    "A/cal.reshape(1,len(cal))"
   ]
  },
  {
   "cell_type": "code",
   "execution_count": null,
   "id": "cfe11182-a140-4c77-ba61-ec0d4e4dd4a1",
   "metadata": {},
   "outputs": [],
   "source": []
  },
  {
   "cell_type": "code",
   "execution_count": 17,
   "id": "911370fe-ec34-47d2-ab9f-e2018f927476",
   "metadata": {},
   "outputs": [
    {
     "data": {
      "text/plain": [
       "array([-0.2602233 ,  0.29896624,  0.50155245,  1.27332199,  0.15667089])"
      ]
     },
     "execution_count": 17,
     "metadata": {},
     "output_type": "execute_result"
    }
   ],
   "source": [
    "a = np.random.randn(5)\n",
    "a"
   ]
  },
  {
   "cell_type": "code",
   "execution_count": 29,
   "id": "c7bded17-070d-4787-a4cb-421e91273b06",
   "metadata": {},
   "outputs": [
    {
     "data": {
      "text/plain": [
       "(5, 1)"
      ]
     },
     "execution_count": 29,
     "metadata": {},
     "output_type": "execute_result"
    }
   ],
   "source": [
    "a.shape\n",
    "# rank 1 array (5,)"
   ]
  },
  {
   "cell_type": "code",
   "execution_count": 30,
   "id": "ffc16463-9b55-4249-be61-4723306f189c",
   "metadata": {},
   "outputs": [
    {
     "data": {
      "text/plain": [
       "array([[ 0.94778184, -0.76570547, -1.01123672,  0.81233053,  1.20824534]])"
      ]
     },
     "execution_count": 30,
     "metadata": {},
     "output_type": "execute_result"
    }
   ],
   "source": [
    "a.T"
   ]
  },
  {
   "cell_type": "code",
   "execution_count": 31,
   "id": "39be9173-175a-49c9-95d4-9bf71b3b3e38",
   "metadata": {},
   "outputs": [
    {
     "data": {
      "text/plain": [
       "array([[ 0.89829042, -0.72572174, -0.9584318 ,  0.76991212,  1.14515299],\n",
       "       [-0.72572174,  0.58630487,  0.77430949, -0.62200593, -0.92516007],\n",
       "       [-0.9584318 ,  0.77430949,  1.02259971, -0.82145846, -1.22182206],\n",
       "       [ 0.76991212, -0.62200593, -0.82145846,  0.65988089,  0.98149458],\n",
       "       [ 1.14515299, -0.92516007, -1.22182206,  0.98149458,  1.45985681]])"
      ]
     },
     "execution_count": 31,
     "metadata": {},
     "output_type": "execute_result"
    }
   ],
   "source": [
    "np.dot(a,a.T)"
   ]
  },
  {
   "cell_type": "code",
   "execution_count": 32,
   "id": "58d6969b-aa67-48d7-9940-6dc635271d14",
   "metadata": {},
   "outputs": [
    {
     "data": {
      "text/plain": [
       "array([[-0.28000651],\n",
       "       [ 1.1622665 ],\n",
       "       [ 0.79436124],\n",
       "       [-0.680352  ],\n",
       "       [-0.54310761]])"
      ]
     },
     "execution_count": 32,
     "metadata": {},
     "output_type": "execute_result"
    }
   ],
   "source": [
    "a = np.random.randn(5,1)\n",
    "a\n",
    "# 1x5 matrix"
   ]
  },
  {
   "cell_type": "code",
   "execution_count": 33,
   "id": "7ed2b769-0d4c-47d1-99b8-3de2d3168cd1",
   "metadata": {},
   "outputs": [
    {
     "data": {
      "text/plain": [
       "array([[ 0.07840365, -0.32544219, -0.22242632,  0.19050299,  0.15207367],\n",
       "       [-0.32544219,  1.35086342,  0.92325946, -0.79075034, -0.63123578],\n",
       "       [-0.22242632,  0.92325946,  0.63100978, -0.54044526, -0.43142363],\n",
       "       [ 0.19050299, -0.79075034, -0.54044526,  0.46287885,  0.36950435],\n",
       "       [ 0.15207367, -0.63123578, -0.43142363,  0.36950435,  0.29496587]])"
      ]
     },
     "execution_count": 33,
     "metadata": {},
     "output_type": "execute_result"
    }
   ],
   "source": [
    "np.dot(a,a.T)"
   ]
  },
  {
   "cell_type": "code",
   "execution_count": 34,
   "id": "71052c49-ead9-4e7e-959b-698e2aeb7d68",
   "metadata": {},
   "outputs": [],
   "source": [
    "a = np.random.randn(5,1)\n",
    "assert(a.shape == (5,1))\n"
   ]
  },
  {
   "cell_type": "code",
   "execution_count": 36,
   "id": "8e558b7b-7c10-47b5-a49f-1ca7c6d18ed1",
   "metadata": {},
   "outputs": [
    {
     "data": {
      "text/plain": [
       "(2, 2, 1)"
      ]
     },
     "execution_count": 36,
     "metadata": {},
     "output_type": "execute_result"
    }
   ],
   "source": [
    "np.array([[[1],[2]],[[3],[4]]]).shape"
   ]
  },
  {
   "cell_type": "code",
   "execution_count": 39,
   "id": "a73e9978-7638-4ec2-98c7-4bbf6f895ef6",
   "metadata": {},
   "outputs": [
    {
     "data": {
      "text/plain": [
       "array([[3, 3],\n",
       "       [4, 2]])"
      ]
     },
     "execution_count": 39,
     "metadata": {},
     "output_type": "execute_result"
    }
   ],
   "source": [
    "a = np.array([[1,1],[1,-1]])\n",
    "b=np.array([[2],[3]])\n",
    "c=a+b\n",
    "c"
   ]
  },
  {
   "cell_type": "code",
   "execution_count": 40,
   "id": "d265a6f1-5f74-4acd-b808-c7100b418882",
   "metadata": {},
   "outputs": [
    {
     "data": {
      "text/plain": [
       "array([[ 1,  1],\n",
       "       [ 1, -1]])"
      ]
     },
     "execution_count": 40,
     "metadata": {},
     "output_type": "execute_result"
    }
   ],
   "source": [
    "a"
   ]
  },
  {
   "cell_type": "code",
   "execution_count": 41,
   "id": "d9dd62c4-3607-44bd-8c13-051490bfad95",
   "metadata": {},
   "outputs": [
    {
     "ename": "NameError",
     "evalue": "name 'log' is not defined",
     "output_type": "error",
     "traceback": [
      "\u001b[1;31m---------------------------------------------------------------------------\u001b[0m",
      "\u001b[1;31mNameError\u001b[0m                                 Traceback (most recent call last)",
      "Cell \u001b[1;32mIn[41], line 1\u001b[0m\n\u001b[1;32m----> 1\u001b[0m \u001b[38;5;241m-\u001b[39m\u001b[38;5;241m0.9\u001b[39m\u001b[38;5;241m*\u001b[39m\u001b[43mlog\u001b[49m(\u001b[38;5;241m1\u001b[39m)\n",
      "\u001b[1;31mNameError\u001b[0m: name 'log' is not defined"
     ]
    }
   ],
   "source": [
    "-0.9*log(1)"
   ]
  },
  {
   "cell_type": "code",
   "execution_count": null,
   "id": "8b3dab34-46e2-487a-9c0f-e350d1066ac1",
   "metadata": {},
   "outputs": [],
   "source": []
  }
 ],
 "metadata": {
  "kernelspec": {
   "display_name": "mlenv",
   "language": "python",
   "name": "mlenv"
  },
  "language_info": {
   "codemirror_mode": {
    "name": "ipython",
    "version": 3
   },
   "file_extension": ".py",
   "mimetype": "text/x-python",
   "name": "python",
   "nbconvert_exporter": "python",
   "pygments_lexer": "ipython3",
   "version": "3.11.5"
  }
 },
 "nbformat": 4,
 "nbformat_minor": 5
}
