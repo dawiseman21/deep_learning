{
 "cells": [
  {
   "cell_type": "code",
   "execution_count": 1,
   "id": "74a3a25d-c98c-43f1-9031-ce7245193c3b",
   "metadata": {},
   "outputs": [
    {
     "name": "stdout",
     "output_type": "stream",
     "text": [
      "[1 2 3 4]\n"
     ]
    }
   ],
   "source": [
    "import numpy as np\n",
    "\n",
    "a = np.array([1,2,3,4])\n",
    "print(a)"
   ]
  },
  {
   "cell_type": "code",
   "execution_count": 2,
   "id": "29122373-076e-4a82-8371-358a2d8f57b6",
   "metadata": {},
   "outputs": [
    {
     "name": "stdout",
     "output_type": "stream",
     "text": [
      "249809.18600474377\n",
      "Vectorized version: 1.0075569152832031ms\n"
     ]
    }
   ],
   "source": [
    "import time\n",
    "\n",
    "a = np.random.rand(1000000)\n",
    "b = np.random.rand(1000000)\n",
    "\n",
    "tic = time.time()\n",
    "c = np.dot(a,b)\n",
    "toc = time.time()\n",
    "\n",
    "print(c)\n",
    "print('Vectorized version: ' + str(1000*(toc-tic)) +'ms')"
   ]
  },
  {
   "cell_type": "code",
   "execution_count": 3,
   "id": "dc06d8a2-9acf-40ec-9cd2-2c400b5b175d",
   "metadata": {},
   "outputs": [
    {
     "name": "stdout",
     "output_type": "stream",
     "text": [
      "500106.09528529586\n",
      "For loop: 203.74274253845215ms\n"
     ]
    }
   ],
   "source": [
    "c=0\n",
    "\n",
    "tic = time.time()\n",
    "for i in range(1000000):\n",
    "    c += a[i]\n",
    "toc = time.time()\n",
    "\n",
    "print(c)\n",
    "print('For loop: ' + str(1000*(toc-tic)) +'ms')"
   ]
  },
  {
   "cell_type": "markdown",
   "id": "33938fd9-7914-4621-add2-8d47fad65b67",
   "metadata": {},
   "source": [
    "CPU and GPU both have instructions for parallelization instructions, aka SIMD instructions\n",
    "SIMD = Single Instruction Multiple Data\n",
    "Avoid using explicit for loops"
   ]
  },
  {
   "cell_type": "code",
   "execution_count": null,
   "id": "7bd7c1b9-84cb-4c19-a9e8-b800540c3f93",
   "metadata": {},
   "outputs": [],
   "source": []
  }
 ],
 "metadata": {
  "kernelspec": {
   "display_name": "mlenv",
   "language": "python",
   "name": "mlenv"
  },
  "language_info": {
   "codemirror_mode": {
    "name": "ipython",
    "version": 3
   },
   "file_extension": ".py",
   "mimetype": "text/x-python",
   "name": "python",
   "nbconvert_exporter": "python",
   "pygments_lexer": "ipython3",
   "version": "3.11.5"
  }
 },
 "nbformat": 4,
 "nbformat_minor": 5
}
