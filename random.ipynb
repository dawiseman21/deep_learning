{
 "cells": [
  {
   "cell_type": "code",
   "execution_count": 1,
   "id": "8b32c9a3-f98b-4012-95af-43c4c63cf3f7",
   "metadata": {},
   "outputs": [],
   "source": [
    "import numpy as np"
   ]
  },
  {
   "cell_type": "code",
   "execution_count": 5,
   "id": "f6776ce9-b676-49b0-a0a3-29a07d8722bf",
   "metadata": {},
   "outputs": [
    {
     "data": {
      "text/plain": [
       "{'W1': array([[ 0.0066408 , -0.00469469, -0.00267612],\n",
       "        [ 0.0002536 ,  0.00453229, -0.02661633],\n",
       "        [-0.00240544, -0.01200377,  0.00810924],\n",
       "        [-0.01881004, -0.00430121,  0.01472638]]),\n",
       " 'b1': array([[-0.01128891],\n",
       "        [-0.00930535],\n",
       "        [ 0.00715157],\n",
       "        [-0.0060668 ]]),\n",
       " 'W2': array([[-0.00030988,  0.0033621 , -0.00269618, -0.01236524],\n",
       "        [ 0.00606883, -0.00875892, -0.01022125, -0.00194478],\n",
       "        [ 0.00743314,  0.01310099, -0.00205153, -0.00261474]]),\n",
       " 'b2': array([[-0.01151168],\n",
       "        [ 0.01214926],\n",
       "        [ 0.00177389]]),\n",
       " 'W3': array([[-0.00091829, -0.00852848, -0.00639432],\n",
       "        [ 0.00423845,  0.00114655, -0.00370123]]),\n",
       " 'b3': array([[-0.0259028 ],\n",
       "        [-0.00571016]]),\n",
       " 'W4': array([[-0.00090965,  0.0130355 ]]),\n",
       " 'b4': array([[0.01155425]])}"
      ]
     },
     "execution_count": 5,
     "metadata": {},
     "output_type": "execute_result"
    }
   ],
   "source": [
    "layer_dims = [3,4,3,2,1]\n",
    "parameter={}\n",
    "for i in range(1,len(layer_dims)):\n",
    "    parameter['W' + str(i)]=np.random.randn(layer_dims[i],layer_dims[i-1])*0.01\n",
    "    parameter['b' + str(i)]=np.random.randn(layer_dims[i],1)*0.01\n",
    "parameter"
   ]
  },
  {
   "cell_type": "code",
   "execution_count": 13,
   "id": "70f002f2-7ad5-4b99-9920-c865dbe3efd3",
   "metadata": {},
   "outputs": [],
   "source": [
    "import numpy as np\n",
    "\n",
    "a = np.array([[1, 2, 3],[1, 2, 3]])\n",
    "b = np.array([[4, 5, 6],[6, 7 ,8]])\n",
    "\n",
    "result = np.dot(a, b.T)"
   ]
  },
  {
   "cell_type": "code",
   "execution_count": 16,
   "id": "48b9a013-3d2c-45b5-b8e3-2f4e2bebc994",
   "metadata": {},
   "outputs": [
    {
     "data": {
      "text/plain": [
       "array([[4, 6],\n",
       "       [5, 7],\n",
       "       [6, 8]])"
      ]
     },
     "execution_count": 16,
     "metadata": {},
     "output_type": "execute_result"
    }
   ],
   "source": [
    "b.T"
   ]
  },
  {
   "cell_type": "code",
   "execution_count": 23,
   "id": "6a8eec9b-4d62-420d-8edc-9704f2e01b40",
   "metadata": {},
   "outputs": [
    {
     "data": {
      "text/plain": [
       "array([[32, 44],\n",
       "       [32, 44]])"
      ]
     },
     "execution_count": 23,
     "metadata": {},
     "output_type": "execute_result"
    }
   ],
   "source": [
    "result"
   ]
  },
  {
   "cell_type": "code",
   "execution_count": 15,
   "id": "5216ab0d-0137-4621-8279-4ae8107622cd",
   "metadata": {},
   "outputs": [
    {
     "data": {
      "text/plain": [
       "array([[ 4, 10, 18],\n",
       "       [ 6, 14, 24]])"
      ]
     },
     "execution_count": 15,
     "metadata": {},
     "output_type": "execute_result"
    }
   ],
   "source": [
    "result2 = np.multiply(a, b)\n",
    "result2"
   ]
  },
  {
   "cell_type": "code",
   "execution_count": 17,
   "id": "b2f7d7d0-f62d-4dbd-b246-4b74a3acc639",
   "metadata": {},
   "outputs": [
    {
     "data": {
      "text/plain": [
       "(2, 3)"
      ]
     },
     "execution_count": 17,
     "metadata": {},
     "output_type": "execute_result"
    }
   ],
   "source": [
    "a.shape"
   ]
  },
  {
   "cell_type": "code",
   "execution_count": 18,
   "id": "dc24ecf4-113c-4c4e-bd08-4726102dcc57",
   "metadata": {},
   "outputs": [
    {
     "data": {
      "text/plain": [
       "(2, 3)"
      ]
     },
     "execution_count": 18,
     "metadata": {},
     "output_type": "execute_result"
    }
   ],
   "source": [
    "b.shape"
   ]
  },
  {
   "cell_type": "code",
   "execution_count": 19,
   "id": "6f968322-e168-45d1-b3e5-0cb40746a93f",
   "metadata": {},
   "outputs": [
    {
     "data": {
      "text/plain": [
       "(2, 3)"
      ]
     },
     "execution_count": 19,
     "metadata": {},
     "output_type": "execute_result"
    }
   ],
   "source": [
    "result2.shape"
   ]
  },
  {
   "cell_type": "code",
   "execution_count": 22,
   "id": "4e79976d-6388-47cb-90a1-ad5b252efcdc",
   "metadata": {},
   "outputs": [
    {
     "data": {
      "text/plain": [
       "array([[ 5, 10, 15],\n",
       "       [24, 30, 36]])"
      ]
     },
     "execution_count": 22,
     "metadata": {},
     "output_type": "execute_result"
    }
   ],
   "source": [
    "c = np.array([[1, 2, 3],[4,5,6]])\n",
    "d = np.array([[5],[6]])\n",
    "np.multiply(c,d)"
   ]
  },
  {
   "cell_type": "code",
   "execution_count": null,
   "id": "79f920e8-ec5e-4eab-b9ce-2deb409d09af",
   "metadata": {},
   "outputs": [],
   "source": []
  }
 ],
 "metadata": {
  "kernelspec": {
   "display_name": "mlenv",
   "language": "python",
   "name": "mlenv"
  },
  "language_info": {
   "codemirror_mode": {
    "name": "ipython",
    "version": 3
   },
   "file_extension": ".py",
   "mimetype": "text/x-python",
   "name": "python",
   "nbconvert_exporter": "python",
   "pygments_lexer": "ipython3",
   "version": "3.11.5"
  }
 },
 "nbformat": 4,
 "nbformat_minor": 5
}
