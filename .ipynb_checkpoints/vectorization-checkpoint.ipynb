{
 "cells": [
  {
   "cell_type": "code",
   "execution_count": 1,
   "id": "74a3a25d-c98c-43f1-9031-ce7245193c3b",
   "metadata": {},
   "outputs": [
    {
     "name": "stdout",
     "output_type": "stream",
     "text": [
      "[1 2 3 4]\n"
     ]
    }
   ],
   "source": [
    "import numpy as np\n",
    "\n",
    "a = np.array([1,2,3,4])\n",
    "print(a)"
   ]
  },
  {
   "cell_type": "code",
   "execution_count": 2,
   "id": "29122373-076e-4a82-8371-358a2d8f57b6",
   "metadata": {},
   "outputs": [
    {
     "name": "stdout",
     "output_type": "stream",
     "text": [
      "249809.18600474377\n",
      "Vectorized version: 1.0075569152832031ms\n"
     ]
    }
   ],
   "source": [
    "import time\n",
    "\n",
    "a = np.random.rand(1000000)\n",
    "b = np.random.rand(1000000)\n",
    "\n",
    "tic = time.time()\n",
    "c = np.dot(a,b)\n",
    "toc = time.time()\n",
    "\n",
    "print(c)\n",
    "print('Vectorized version: ' + str(1000*(toc-tic)) +'ms')"
   ]
  },
  {
   "cell_type": "code",
   "execution_count": 3,
   "id": "dc06d8a2-9acf-40ec-9cd2-2c400b5b175d",
   "metadata": {},
   "outputs": [
    {
     "name": "stdout",
     "output_type": "stream",
     "text": [
      "500106.09528529586\n",
      "For loop: 203.74274253845215ms\n"
     ]
    }
   ],
   "source": [
    "c=0\n",
    "\n",
    "tic = time.time()\n",
    "for i in range(1000000):\n",
    "    c += a[i]\n",
    "toc = time.time()\n",
    "\n",
    "print(c)\n",
    "print('For loop: ' + str(1000*(toc-tic)) +'ms')"
   ]
  },
  {
   "cell_type": "markdown",
   "id": "33938fd9-7914-4621-add2-8d47fad65b67",
   "metadata": {},
   "source": [
    "CPU and GPU both have instructions for parallelization instructions, aka SIMD instructions\n",
    "\n",
    "SIMD = Single Instruction Multiple Data\n",
    "\n",
    "Avoid using explicit for-loops"
   ]
  },
  {
   "cell_type": "code",
   "execution_count": null,
   "id": "7bd7c1b9-84cb-4c19-a9e8-b800540c3f93",
   "metadata": {},
   "outputs": [],
   "source": []
  },
  {
   "cell_type": "code",
   "execution_count": 6,
   "id": "dca08c86-6dbc-4e80-aadc-9eeb75f056f9",
   "metadata": {},
   "outputs": [
    {
     "ename": "NameError",
     "evalue": "name 'v' is not defined",
     "output_type": "error",
     "traceback": [
      "\u001b[1;31m---------------------------------------------------------------------------\u001b[0m",
      "\u001b[1;31mNameError\u001b[0m                                 Traceback (most recent call last)",
      "Cell \u001b[1;32mIn[6], line 6\u001b[0m\n\u001b[0;32m      4\u001b[0m u \u001b[38;5;241m=\u001b[39m np\u001b[38;5;241m.\u001b[39mzeros((n,\u001b[38;5;241m1\u001b[39m))\n\u001b[0;32m      5\u001b[0m \u001b[38;5;28;01mfor\u001b[39;00m i \u001b[38;5;129;01min\u001b[39;00m \u001b[38;5;28mrange\u001b[39m(n):\n\u001b[1;32m----> 6\u001b[0m     u[i]\u001b[38;5;241m=\u001b[39mmath\u001b[38;5;241m.\u001b[39mexp(\u001b[43mv\u001b[49m[i])\n\u001b[0;32m     10\u001b[0m \u001b[38;5;66;03m# u = np.exp(v)\u001b[39;00m\n\u001b[0;32m     11\u001b[0m \u001b[38;5;66;03m# np.log(v)\u001b[39;00m\n\u001b[0;32m     12\u001b[0m \u001b[38;5;66;03m# np.abs(v)\u001b[39;00m\n\u001b[0;32m     13\u001b[0m \u001b[38;5;66;03m# np.maximum(v,0)\u001b[39;00m\n\u001b[0;32m     14\u001b[0m \u001b[38;5;66;03m# v**2\u001b[39;00m\n\u001b[0;32m     15\u001b[0m \u001b[38;5;66;03m# 1/v\u001b[39;00m\n",
      "\u001b[1;31mNameError\u001b[0m: name 'v' is not defined"
     ]
    }
   ],
   "source": [
    "# Vecotrizing Logistic Regression\n",
    "\n"
   ]
  },
  {
   "cell_type": "code",
   "execution_count": null,
   "id": "98bbe5d5-b799-4031-839d-0c75702da13e",
   "metadata": {},
   "outputs": [],
   "source": []
  },
  {
   "cell_type": "code",
   "execution_count": null,
   "id": "89ee6251-a4d6-46f1-9505-3aa064c11dd8",
   "metadata": {},
   "outputs": [],
   "source": []
  }
 ],
 "metadata": {
  "kernelspec": {
   "display_name": "mlenv",
   "language": "python",
   "name": "mlenv"
  },
  "language_info": {
   "codemirror_mode": {
    "name": "ipython",
    "version": 3
   },
   "file_extension": ".py",
   "mimetype": "text/x-python",
   "name": "python",
   "nbconvert_exporter": "python",
   "pygments_lexer": "ipython3",
   "version": "3.11.5"
  }
 },
 "nbformat": 4,
 "nbformat_minor": 5
}
